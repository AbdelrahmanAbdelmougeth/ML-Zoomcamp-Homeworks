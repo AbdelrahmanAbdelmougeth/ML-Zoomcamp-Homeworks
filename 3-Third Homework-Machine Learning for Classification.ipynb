{
 "cells": [
  {
   "cell_type": "markdown",
   "id": "db6bdc6e",
   "metadata": {},
   "source": [
    "# Import libraries "
   ]
  },
  {
   "cell_type": "code",
   "execution_count": 1,
   "id": "d1af77b9",
   "metadata": {},
   "outputs": [],
   "source": [
    "import pandas as pd\n",
    "import numpy as np\n",
    "\n",
    "import seaborn as sns\n",
    "from matplotlib import pyplot as plt\n",
    "%matplotlib inline"
   ]
  },
  {
   "cell_type": "markdown",
   "id": "4d4e9eda",
   "metadata": {},
   "source": [
    "# Load the data"
   ]
  },
  {
   "cell_type": "code",
   "execution_count": 2,
   "id": "4ae8076a",
   "metadata": {},
   "outputs": [],
   "source": [
    "df = pd.read_csv('AB_NYC_2019.csv')"
   ]
  },
  {
   "cell_type": "code",
   "execution_count": 4,
   "id": "0e83f8a9",
   "metadata": {},
   "outputs": [
    {
     "data": {
      "text/html": [
       "<div>\n",
       "<style scoped>\n",
       "    .dataframe tbody tr th:only-of-type {\n",
       "        vertical-align: middle;\n",
       "    }\n",
       "\n",
       "    .dataframe tbody tr th {\n",
       "        vertical-align: top;\n",
       "    }\n",
       "\n",
       "    .dataframe thead th {\n",
       "        text-align: right;\n",
       "    }\n",
       "</style>\n",
       "<table border=\"1\" class=\"dataframe\">\n",
       "  <thead>\n",
       "    <tr style=\"text-align: right;\">\n",
       "      <th></th>\n",
       "      <th>0</th>\n",
       "      <th>1</th>\n",
       "      <th>2</th>\n",
       "      <th>3</th>\n",
       "      <th>4</th>\n",
       "    </tr>\n",
       "  </thead>\n",
       "  <tbody>\n",
       "    <tr>\n",
       "      <th>id</th>\n",
       "      <td>2539</td>\n",
       "      <td>2595</td>\n",
       "      <td>3647</td>\n",
       "      <td>3831</td>\n",
       "      <td>5022</td>\n",
       "    </tr>\n",
       "    <tr>\n",
       "      <th>name</th>\n",
       "      <td>Clean &amp; quiet apt home by the park</td>\n",
       "      <td>Skylit Midtown Castle</td>\n",
       "      <td>THE VILLAGE OF HARLEM....NEW YORK !</td>\n",
       "      <td>Cozy Entire Floor of Brownstone</td>\n",
       "      <td>Entire Apt: Spacious Studio/Loft by central park</td>\n",
       "    </tr>\n",
       "    <tr>\n",
       "      <th>host_id</th>\n",
       "      <td>2787</td>\n",
       "      <td>2845</td>\n",
       "      <td>4632</td>\n",
       "      <td>4869</td>\n",
       "      <td>7192</td>\n",
       "    </tr>\n",
       "    <tr>\n",
       "      <th>host_name</th>\n",
       "      <td>John</td>\n",
       "      <td>Jennifer</td>\n",
       "      <td>Elisabeth</td>\n",
       "      <td>LisaRoxanne</td>\n",
       "      <td>Laura</td>\n",
       "    </tr>\n",
       "    <tr>\n",
       "      <th>neighbourhood_group</th>\n",
       "      <td>Brooklyn</td>\n",
       "      <td>Manhattan</td>\n",
       "      <td>Manhattan</td>\n",
       "      <td>Brooklyn</td>\n",
       "      <td>Manhattan</td>\n",
       "    </tr>\n",
       "    <tr>\n",
       "      <th>neighbourhood</th>\n",
       "      <td>Kensington</td>\n",
       "      <td>Midtown</td>\n",
       "      <td>Harlem</td>\n",
       "      <td>Clinton Hill</td>\n",
       "      <td>East Harlem</td>\n",
       "    </tr>\n",
       "    <tr>\n",
       "      <th>latitude</th>\n",
       "      <td>40.64749</td>\n",
       "      <td>40.75362</td>\n",
       "      <td>40.80902</td>\n",
       "      <td>40.68514</td>\n",
       "      <td>40.79851</td>\n",
       "    </tr>\n",
       "    <tr>\n",
       "      <th>longitude</th>\n",
       "      <td>-73.97237</td>\n",
       "      <td>-73.98377</td>\n",
       "      <td>-73.9419</td>\n",
       "      <td>-73.95976</td>\n",
       "      <td>-73.94399</td>\n",
       "    </tr>\n",
       "    <tr>\n",
       "      <th>room_type</th>\n",
       "      <td>Private room</td>\n",
       "      <td>Entire home/apt</td>\n",
       "      <td>Private room</td>\n",
       "      <td>Entire home/apt</td>\n",
       "      <td>Entire home/apt</td>\n",
       "    </tr>\n",
       "    <tr>\n",
       "      <th>price</th>\n",
       "      <td>149</td>\n",
       "      <td>225</td>\n",
       "      <td>150</td>\n",
       "      <td>89</td>\n",
       "      <td>80</td>\n",
       "    </tr>\n",
       "    <tr>\n",
       "      <th>minimum_nights</th>\n",
       "      <td>1</td>\n",
       "      <td>1</td>\n",
       "      <td>3</td>\n",
       "      <td>1</td>\n",
       "      <td>10</td>\n",
       "    </tr>\n",
       "    <tr>\n",
       "      <th>number_of_reviews</th>\n",
       "      <td>9</td>\n",
       "      <td>45</td>\n",
       "      <td>0</td>\n",
       "      <td>270</td>\n",
       "      <td>9</td>\n",
       "    </tr>\n",
       "    <tr>\n",
       "      <th>last_review</th>\n",
       "      <td>2018-10-19</td>\n",
       "      <td>2019-05-21</td>\n",
       "      <td>NaN</td>\n",
       "      <td>2019-07-05</td>\n",
       "      <td>2018-11-19</td>\n",
       "    </tr>\n",
       "    <tr>\n",
       "      <th>reviews_per_month</th>\n",
       "      <td>0.21</td>\n",
       "      <td>0.38</td>\n",
       "      <td>NaN</td>\n",
       "      <td>4.64</td>\n",
       "      <td>0.1</td>\n",
       "    </tr>\n",
       "    <tr>\n",
       "      <th>calculated_host_listings_count</th>\n",
       "      <td>6</td>\n",
       "      <td>2</td>\n",
       "      <td>1</td>\n",
       "      <td>1</td>\n",
       "      <td>1</td>\n",
       "    </tr>\n",
       "    <tr>\n",
       "      <th>availability_365</th>\n",
       "      <td>365</td>\n",
       "      <td>355</td>\n",
       "      <td>365</td>\n",
       "      <td>194</td>\n",
       "      <td>0</td>\n",
       "    </tr>\n",
       "  </tbody>\n",
       "</table>\n",
       "</div>"
      ],
      "text/plain": [
       "                                                                 0  \\\n",
       "id                                                            2539   \n",
       "name                            Clean & quiet apt home by the park   \n",
       "host_id                                                       2787   \n",
       "host_name                                                     John   \n",
       "neighbourhood_group                                       Brooklyn   \n",
       "neighbourhood                                           Kensington   \n",
       "latitude                                                  40.64749   \n",
       "longitude                                                -73.97237   \n",
       "room_type                                             Private room   \n",
       "price                                                          149   \n",
       "minimum_nights                                                   1   \n",
       "number_of_reviews                                                9   \n",
       "last_review                                             2018-10-19   \n",
       "reviews_per_month                                             0.21   \n",
       "calculated_host_listings_count                                   6   \n",
       "availability_365                                               365   \n",
       "\n",
       "                                                    1  \\\n",
       "id                                               2595   \n",
       "name                            Skylit Midtown Castle   \n",
       "host_id                                          2845   \n",
       "host_name                                    Jennifer   \n",
       "neighbourhood_group                         Manhattan   \n",
       "neighbourhood                                 Midtown   \n",
       "latitude                                     40.75362   \n",
       "longitude                                   -73.98377   \n",
       "room_type                             Entire home/apt   \n",
       "price                                             225   \n",
       "minimum_nights                                      1   \n",
       "number_of_reviews                                  45   \n",
       "last_review                                2019-05-21   \n",
       "reviews_per_month                                0.38   \n",
       "calculated_host_listings_count                      2   \n",
       "availability_365                                  355   \n",
       "\n",
       "                                                                  2  \\\n",
       "id                                                             3647   \n",
       "name                            THE VILLAGE OF HARLEM....NEW YORK !   \n",
       "host_id                                                        4632   \n",
       "host_name                                                 Elisabeth   \n",
       "neighbourhood_group                                       Manhattan   \n",
       "neighbourhood                                                Harlem   \n",
       "latitude                                                   40.80902   \n",
       "longitude                                                  -73.9419   \n",
       "room_type                                              Private room   \n",
       "price                                                           150   \n",
       "minimum_nights                                                    3   \n",
       "number_of_reviews                                                 0   \n",
       "last_review                                                     NaN   \n",
       "reviews_per_month                                               NaN   \n",
       "calculated_host_listings_count                                    1   \n",
       "availability_365                                                365   \n",
       "\n",
       "                                                              3  \\\n",
       "id                                                         3831   \n",
       "name                            Cozy Entire Floor of Brownstone   \n",
       "host_id                                                    4869   \n",
       "host_name                                           LisaRoxanne   \n",
       "neighbourhood_group                                    Brooklyn   \n",
       "neighbourhood                                      Clinton Hill   \n",
       "latitude                                               40.68514   \n",
       "longitude                                             -73.95976   \n",
       "room_type                                       Entire home/apt   \n",
       "price                                                        89   \n",
       "minimum_nights                                                1   \n",
       "number_of_reviews                                           270   \n",
       "last_review                                          2019-07-05   \n",
       "reviews_per_month                                          4.64   \n",
       "calculated_host_listings_count                                1   \n",
       "availability_365                                            194   \n",
       "\n",
       "                                                                               4  \n",
       "id                                                                          5022  \n",
       "name                            Entire Apt: Spacious Studio/Loft by central park  \n",
       "host_id                                                                     7192  \n",
       "host_name                                                                  Laura  \n",
       "neighbourhood_group                                                    Manhattan  \n",
       "neighbourhood                                                        East Harlem  \n",
       "latitude                                                                40.79851  \n",
       "longitude                                                              -73.94399  \n",
       "room_type                                                        Entire home/apt  \n",
       "price                                                                         80  \n",
       "minimum_nights                                                                10  \n",
       "number_of_reviews                                                              9  \n",
       "last_review                                                           2018-11-19  \n",
       "reviews_per_month                                                            0.1  \n",
       "calculated_host_listings_count                                                 1  \n",
       "availability_365                                                               0  "
      ]
     },
     "execution_count": 4,
     "metadata": {},
     "output_type": "execute_result"
    }
   ],
   "source": [
    "df.head().T"
   ]
  },
  {
   "cell_type": "code",
   "execution_count": 5,
   "id": "26939748",
   "metadata": {},
   "outputs": [],
   "source": [
    "features = ['neighbourhood_group','room_type','latitude',\n",
    "'longitude','price','minimum_nights','number_of_reviews',\n",
    "'reviews_per_month','calculated_host_listings_count','availability_365']"
   ]
  },
  {
   "cell_type": "code",
   "execution_count": 123,
   "id": "b8dc800c",
   "metadata": {},
   "outputs": [],
   "source": [
    "numerical = ['latitude','longitude','minimum_nights','number_of_reviews',\n",
    "             'reviews_per_month','calculated_host_listings_count','availability_365']"
   ]
  },
  {
   "cell_type": "code",
   "execution_count": 124,
   "id": "e389ac01",
   "metadata": {},
   "outputs": [],
   "source": [
    "categorical = ['neighbourhood_group','room_type']"
   ]
  },
  {
   "cell_type": "code",
   "execution_count": 6,
   "id": "a72447f5",
   "metadata": {},
   "outputs": [
    {
     "data": {
      "text/plain": [
       "id                                    0\n",
       "name                                 16\n",
       "host_id                               0\n",
       "host_name                            21\n",
       "neighbourhood_group                   0\n",
       "neighbourhood                         0\n",
       "latitude                              0\n",
       "longitude                             0\n",
       "room_type                             0\n",
       "price                                 0\n",
       "minimum_nights                        0\n",
       "number_of_reviews                     0\n",
       "last_review                       10052\n",
       "reviews_per_month                 10052\n",
       "calculated_host_listings_count        0\n",
       "availability_365                      0\n",
       "dtype: int64"
      ]
     },
     "execution_count": 6,
     "metadata": {},
     "output_type": "execute_result"
    }
   ],
   "source": [
    "df.isnull().sum()"
   ]
  },
  {
   "cell_type": "markdown",
   "id": "fd556778",
   "metadata": {},
   "source": [
    "# Fill the missing values with 0"
   ]
  },
  {
   "cell_type": "code",
   "execution_count": 7,
   "id": "9e93186f",
   "metadata": {},
   "outputs": [],
   "source": [
    "df[features] = df[features].fillna(0)"
   ]
  },
  {
   "cell_type": "code",
   "execution_count": 8,
   "id": "85914444",
   "metadata": {},
   "outputs": [
    {
     "data": {
      "text/plain": [
       "id                                    0\n",
       "name                                 16\n",
       "host_id                               0\n",
       "host_name                            21\n",
       "neighbourhood_group                   0\n",
       "neighbourhood                         0\n",
       "latitude                              0\n",
       "longitude                             0\n",
       "room_type                             0\n",
       "price                                 0\n",
       "minimum_nights                        0\n",
       "number_of_reviews                     0\n",
       "last_review                       10052\n",
       "reviews_per_month                     0\n",
       "calculated_host_listings_count        0\n",
       "availability_365                      0\n",
       "dtype: int64"
      ]
     },
     "execution_count": 8,
     "metadata": {},
     "output_type": "execute_result"
    }
   ],
   "source": [
    "df.isnull().sum()"
   ]
  },
  {
   "cell_type": "markdown",
   "id": "a630b713",
   "metadata": {},
   "source": [
    "**clean the data**"
   ]
  },
  {
   "cell_type": "code",
   "execution_count": 9,
   "id": "b185138d",
   "metadata": {},
   "outputs": [],
   "source": [
    "df.columns = df.columns.str.lower().str.replace(' ', '_')\n",
    "\n",
    "string_columns = list(df.dtypes[df.dtypes == 'object'].index)\n",
    "\n",
    "for col in string_columns:\n",
    "    df[col] = df[col].str.lower().str.replace(' ', '_')"
   ]
  },
  {
   "cell_type": "markdown",
   "id": "3b972791",
   "metadata": {},
   "source": [
    "# Question #1\n",
    "**What is the most frequent observation (mode) for the column 'neighbourhood_group'?**"
   ]
  },
  {
   "cell_type": "code",
   "execution_count": 10,
   "id": "31dfd792",
   "metadata": {},
   "outputs": [
    {
     "data": {
      "text/plain": [
       "manhattan        21661\n",
       "brooklyn         20104\n",
       "queens            5666\n",
       "bronx             1091\n",
       "staten_island      373\n",
       "Name: neighbourhood_group, dtype: int64"
      ]
     },
     "execution_count": 10,
     "metadata": {},
     "output_type": "execute_result"
    }
   ],
   "source": [
    "df['neighbourhood_group'].value_counts()"
   ]
  },
  {
   "cell_type": "markdown",
   "id": "d77aaa81",
   "metadata": {},
   "source": [
    "**The most repeated is (manhattan)**"
   ]
  },
  {
   "cell_type": "markdown",
   "id": "ca70db00",
   "metadata": {},
   "source": [
    "# Split the data\n",
    "* Split your data in train/val/test sets, with 60%/20%/20% distribution.\n",
    "* Use Scikit-Learn for that (the train_test_split function) and set the seed to 42.\n",
    "* Make sure that the target value ('price') is not in your dataframe."
   ]
  },
  {
   "cell_type": "code",
   "execution_count": 11,
   "id": "34f7f640",
   "metadata": {},
   "outputs": [
    {
     "data": {
      "text/plain": [
       "(39116, 9779)"
      ]
     },
     "execution_count": 11,
     "metadata": {},
     "output_type": "execute_result"
    }
   ],
   "source": [
    "from sklearn.model_selection import train_test_split\n",
    "\n",
    "\n",
    "df_full_train , df_test = train_test_split(df,test_size = 0.2, random_state = 42)\n",
    "\n",
    "len (df_full_train) , len(df_test)"
   ]
  },
  {
   "cell_type": "code",
   "execution_count": 13,
   "id": "78ec5397",
   "metadata": {},
   "outputs": [
    {
     "data": {
      "text/plain": [
       "(29337, 9779, 9779)"
      ]
     },
     "execution_count": 13,
     "metadata": {},
     "output_type": "execute_result"
    }
   ],
   "source": [
    "df_train , df_val  = train_test_split(df_full_train,test_size = 0.25, random_state = 1)\n",
    "\n",
    "len (df_train) , len(df_val) ,len(df_test)"
   ]
  },
  {
   "cell_type": "code",
   "execution_count": 15,
   "id": "1f8f3dae",
   "metadata": {},
   "outputs": [
    {
     "data": {
      "text/html": [
       "<div>\n",
       "<style scoped>\n",
       "    .dataframe tbody tr th:only-of-type {\n",
       "        vertical-align: middle;\n",
       "    }\n",
       "\n",
       "    .dataframe tbody tr th {\n",
       "        vertical-align: top;\n",
       "    }\n",
       "\n",
       "    .dataframe thead th {\n",
       "        text-align: right;\n",
       "    }\n",
       "</style>\n",
       "<table border=\"1\" class=\"dataframe\">\n",
       "  <thead>\n",
       "    <tr style=\"text-align: right;\">\n",
       "      <th></th>\n",
       "      <th>id</th>\n",
       "      <th>name</th>\n",
       "      <th>host_id</th>\n",
       "      <th>host_name</th>\n",
       "      <th>neighbourhood_group</th>\n",
       "      <th>neighbourhood</th>\n",
       "      <th>latitude</th>\n",
       "      <th>longitude</th>\n",
       "      <th>room_type</th>\n",
       "      <th>price</th>\n",
       "      <th>minimum_nights</th>\n",
       "      <th>number_of_reviews</th>\n",
       "      <th>last_review</th>\n",
       "      <th>reviews_per_month</th>\n",
       "      <th>calculated_host_listings_count</th>\n",
       "      <th>availability_365</th>\n",
       "    </tr>\n",
       "  </thead>\n",
       "  <tbody>\n",
       "    <tr>\n",
       "      <th>2777</th>\n",
       "      <td>1520806</td>\n",
       "      <td>huge_2br+1ba_apt_for_group_only_15_min_to_nycity</td>\n",
       "      <td>347642</td>\n",
       "      <td>jullien</td>\n",
       "      <td>brooklyn</td>\n",
       "      <td>bedford-stuyvesant</td>\n",
       "      <td>40.68084</td>\n",
       "      <td>-73.92804</td>\n",
       "      <td>entire_home/apt</td>\n",
       "      <td>170</td>\n",
       "      <td>3</td>\n",
       "      <td>134</td>\n",
       "      <td>2019-06-20</td>\n",
       "      <td>2.00</td>\n",
       "      <td>3</td>\n",
       "      <td>209</td>\n",
       "    </tr>\n",
       "    <tr>\n",
       "      <th>26060</th>\n",
       "      <td>20794837</td>\n",
       "      <td>one_bedroom</td>\n",
       "      <td>149071197</td>\n",
       "      <td>sydnee</td>\n",
       "      <td>manhattan</td>\n",
       "      <td>harlem</td>\n",
       "      <td>40.82040</td>\n",
       "      <td>-73.93867</td>\n",
       "      <td>private_room</td>\n",
       "      <td>50</td>\n",
       "      <td>1</td>\n",
       "      <td>2</td>\n",
       "      <td>2017-09-10</td>\n",
       "      <td>0.09</td>\n",
       "      <td>1</td>\n",
       "      <td>0</td>\n",
       "    </tr>\n",
       "    <tr>\n",
       "      <th>39854</th>\n",
       "      <td>30965275</td>\n",
       "      <td>basement_in_a_gorgeous_brooklyn_brownstone</td>\n",
       "      <td>231370569</td>\n",
       "      <td>sharyn</td>\n",
       "      <td>brooklyn</td>\n",
       "      <td>bedford-stuyvesant</td>\n",
       "      <td>40.69007</td>\n",
       "      <td>-73.94326</td>\n",
       "      <td>private_room</td>\n",
       "      <td>40</td>\n",
       "      <td>7</td>\n",
       "      <td>13</td>\n",
       "      <td>2019-06-26</td>\n",
       "      <td>2.39</td>\n",
       "      <td>1</td>\n",
       "      <td>93</td>\n",
       "    </tr>\n",
       "    <tr>\n",
       "      <th>31667</th>\n",
       "      <td>24677673</td>\n",
       "      <td>large,_private,_sunny_room_8_min_to_subway_-ha...</td>\n",
       "      <td>4538012</td>\n",
       "      <td>karen</td>\n",
       "      <td>manhattan</td>\n",
       "      <td>east_harlem</td>\n",
       "      <td>40.80931</td>\n",
       "      <td>-73.93982</td>\n",
       "      <td>private_room</td>\n",
       "      <td>65</td>\n",
       "      <td>4</td>\n",
       "      <td>8</td>\n",
       "      <td>2019-06-18</td>\n",
       "      <td>0.64</td>\n",
       "      <td>4</td>\n",
       "      <td>0</td>\n",
       "    </tr>\n",
       "    <tr>\n",
       "      <th>3790</th>\n",
       "      <td>2282085</td>\n",
       "      <td>duplex_ph_2_bedloft_williamsburg</td>\n",
       "      <td>2044302</td>\n",
       "      <td>christopher</td>\n",
       "      <td>brooklyn</td>\n",
       "      <td>williamsburg</td>\n",
       "      <td>40.71969</td>\n",
       "      <td>-73.95830</td>\n",
       "      <td>entire_home/apt</td>\n",
       "      <td>500</td>\n",
       "      <td>1</td>\n",
       "      <td>0</td>\n",
       "      <td>NaN</td>\n",
       "      <td>0.00</td>\n",
       "      <td>1</td>\n",
       "      <td>0</td>\n",
       "    </tr>\n",
       "    <tr>\n",
       "      <th>...</th>\n",
       "      <td>...</td>\n",
       "      <td>...</td>\n",
       "      <td>...</td>\n",
       "      <td>...</td>\n",
       "      <td>...</td>\n",
       "      <td>...</td>\n",
       "      <td>...</td>\n",
       "      <td>...</td>\n",
       "      <td>...</td>\n",
       "      <td>...</td>\n",
       "      <td>...</td>\n",
       "      <td>...</td>\n",
       "      <td>...</td>\n",
       "      <td>...</td>\n",
       "      <td>...</td>\n",
       "      <td>...</td>\n",
       "    </tr>\n",
       "    <tr>\n",
       "      <th>37462</th>\n",
       "      <td>29730504</td>\n",
       "      <td>brooklyn_apartment_with_tons_of_light</td>\n",
       "      <td>223667060</td>\n",
       "      <td>rachel</td>\n",
       "      <td>brooklyn</td>\n",
       "      <td>bushwick</td>\n",
       "      <td>40.69293</td>\n",
       "      <td>-73.90537</td>\n",
       "      <td>entire_home/apt</td>\n",
       "      <td>100</td>\n",
       "      <td>1</td>\n",
       "      <td>4</td>\n",
       "      <td>2019-02-10</td>\n",
       "      <td>0.48</td>\n",
       "      <td>1</td>\n",
       "      <td>35</td>\n",
       "    </tr>\n",
       "    <tr>\n",
       "      <th>35693</th>\n",
       "      <td>28335031</td>\n",
       "      <td>chic_studio_in_a_great_neighborhood</td>\n",
       "      <td>11050667</td>\n",
       "      <td>michelle</td>\n",
       "      <td>manhattan</td>\n",
       "      <td>chelsea</td>\n",
       "      <td>40.73917</td>\n",
       "      <td>-73.99412</td>\n",
       "      <td>entire_home/apt</td>\n",
       "      <td>154</td>\n",
       "      <td>4</td>\n",
       "      <td>7</td>\n",
       "      <td>2019-05-14</td>\n",
       "      <td>0.77</td>\n",
       "      <td>1</td>\n",
       "      <td>0</td>\n",
       "    </tr>\n",
       "    <tr>\n",
       "      <th>2086</th>\n",
       "      <td>941642</td>\n",
       "      <td>hell's_kitchen_studio_for_2_or_3</td>\n",
       "      <td>4888599</td>\n",
       "      <td>rod</td>\n",
       "      <td>manhattan</td>\n",
       "      <td>hell's_kitchen</td>\n",
       "      <td>40.76662</td>\n",
       "      <td>-73.99302</td>\n",
       "      <td>entire_home/apt</td>\n",
       "      <td>179</td>\n",
       "      <td>3</td>\n",
       "      <td>209</td>\n",
       "      <td>2019-06-11</td>\n",
       "      <td>2.70</td>\n",
       "      <td>1</td>\n",
       "      <td>202</td>\n",
       "    </tr>\n",
       "    <tr>\n",
       "      <th>26057</th>\n",
       "      <td>20792967</td>\n",
       "      <td>your_own_flat_in_historic_bed-stuy_district</td>\n",
       "      <td>2648270</td>\n",
       "      <td>jaweer</td>\n",
       "      <td>brooklyn</td>\n",
       "      <td>bedford-stuyvesant</td>\n",
       "      <td>40.68462</td>\n",
       "      <td>-73.93724</td>\n",
       "      <td>entire_home/apt</td>\n",
       "      <td>74</td>\n",
       "      <td>4</td>\n",
       "      <td>1</td>\n",
       "      <td>2017-09-30</td>\n",
       "      <td>0.05</td>\n",
       "      <td>1</td>\n",
       "      <td>0</td>\n",
       "    </tr>\n",
       "    <tr>\n",
       "      <th>6559</th>\n",
       "      <td>4753639</td>\n",
       "      <td>heaven_on_riverside</td>\n",
       "      <td>24530713</td>\n",
       "      <td>byron</td>\n",
       "      <td>manhattan</td>\n",
       "      <td>harlem</td>\n",
       "      <td>40.82332</td>\n",
       "      <td>-73.95471</td>\n",
       "      <td>private_room</td>\n",
       "      <td>90</td>\n",
       "      <td>2</td>\n",
       "      <td>16</td>\n",
       "      <td>2019-04-30</td>\n",
       "      <td>0.30</td>\n",
       "      <td>3</td>\n",
       "      <td>235</td>\n",
       "    </tr>\n",
       "  </tbody>\n",
       "</table>\n",
       "<p>29337 rows × 16 columns</p>\n",
       "</div>"
      ],
      "text/plain": [
       "             id                                               name    host_id  \\\n",
       "2777    1520806   huge_2br+1ba_apt_for_group_only_15_min_to_nycity     347642   \n",
       "26060  20794837                                        one_bedroom  149071197   \n",
       "39854  30965275         basement_in_a_gorgeous_brooklyn_brownstone  231370569   \n",
       "31667  24677673  large,_private,_sunny_room_8_min_to_subway_-ha...    4538012   \n",
       "3790    2282085                   duplex_ph_2_bedloft_williamsburg    2044302   \n",
       "...         ...                                                ...        ...   \n",
       "37462  29730504              brooklyn_apartment_with_tons_of_light  223667060   \n",
       "35693  28335031                chic_studio_in_a_great_neighborhood   11050667   \n",
       "2086     941642                   hell's_kitchen_studio_for_2_or_3    4888599   \n",
       "26057  20792967        your_own_flat_in_historic_bed-stuy_district    2648270   \n",
       "6559    4753639                                heaven_on_riverside   24530713   \n",
       "\n",
       "         host_name neighbourhood_group       neighbourhood  latitude  \\\n",
       "2777       jullien            brooklyn  bedford-stuyvesant  40.68084   \n",
       "26060       sydnee           manhattan              harlem  40.82040   \n",
       "39854       sharyn            brooklyn  bedford-stuyvesant  40.69007   \n",
       "31667        karen           manhattan         east_harlem  40.80931   \n",
       "3790   christopher            brooklyn        williamsburg  40.71969   \n",
       "...            ...                 ...                 ...       ...   \n",
       "37462       rachel            brooklyn            bushwick  40.69293   \n",
       "35693     michelle           manhattan             chelsea  40.73917   \n",
       "2086           rod           manhattan      hell's_kitchen  40.76662   \n",
       "26057       jaweer            brooklyn  bedford-stuyvesant  40.68462   \n",
       "6559         byron           manhattan              harlem  40.82332   \n",
       "\n",
       "       longitude        room_type  price  minimum_nights  number_of_reviews  \\\n",
       "2777   -73.92804  entire_home/apt    170               3                134   \n",
       "26060  -73.93867     private_room     50               1                  2   \n",
       "39854  -73.94326     private_room     40               7                 13   \n",
       "31667  -73.93982     private_room     65               4                  8   \n",
       "3790   -73.95830  entire_home/apt    500               1                  0   \n",
       "...          ...              ...    ...             ...                ...   \n",
       "37462  -73.90537  entire_home/apt    100               1                  4   \n",
       "35693  -73.99412  entire_home/apt    154               4                  7   \n",
       "2086   -73.99302  entire_home/apt    179               3                209   \n",
       "26057  -73.93724  entire_home/apt     74               4                  1   \n",
       "6559   -73.95471     private_room     90               2                 16   \n",
       "\n",
       "      last_review  reviews_per_month  calculated_host_listings_count  \\\n",
       "2777   2019-06-20               2.00                               3   \n",
       "26060  2017-09-10               0.09                               1   \n",
       "39854  2019-06-26               2.39                               1   \n",
       "31667  2019-06-18               0.64                               4   \n",
       "3790          NaN               0.00                               1   \n",
       "...           ...                ...                             ...   \n",
       "37462  2019-02-10               0.48                               1   \n",
       "35693  2019-05-14               0.77                               1   \n",
       "2086   2019-06-11               2.70                               1   \n",
       "26057  2017-09-30               0.05                               1   \n",
       "6559   2019-04-30               0.30                               3   \n",
       "\n",
       "       availability_365  \n",
       "2777                209  \n",
       "26060                 0  \n",
       "39854                93  \n",
       "31667                 0  \n",
       "3790                  0  \n",
       "...                 ...  \n",
       "37462                35  \n",
       "35693                 0  \n",
       "2086                202  \n",
       "26057                 0  \n",
       "6559                235  \n",
       "\n",
       "[29337 rows x 16 columns]"
      ]
     },
     "execution_count": 15,
     "metadata": {},
     "output_type": "execute_result"
    }
   ],
   "source": [
    "df_train"
   ]
  },
  {
   "cell_type": "code",
   "execution_count": 16,
   "id": "0681eef3",
   "metadata": {},
   "outputs": [],
   "source": [
    "df_full_train = df_full_train.reset_index(drop = True)\n",
    "df_train = df_train.reset_index(drop=True)\n",
    "df_val = df_val.reset_index(drop=True)\n",
    "df_test = df_test.reset_index(drop=True)"
   ]
  },
  {
   "cell_type": "markdown",
   "id": "054d8817",
   "metadata": {},
   "source": [
    "**delete the price from data frame**"
   ]
  },
  {
   "cell_type": "code",
   "execution_count": 17,
   "id": "a3c769fb",
   "metadata": {},
   "outputs": [],
   "source": [
    "y_train = df_train.price.values\n",
    "y_val = df_val.price.values\n",
    "y_test = df_test.price.values\n",
    "\n",
    "\n",
    "del df_train['price']\n",
    "del df_val['price']\n",
    "del df_test['price']"
   ]
  },
  {
   "cell_type": "markdown",
   "id": "6f915020",
   "metadata": {},
   "source": [
    "# Question 2\n",
    "* Create the correlation matrix for the numerical features of your train dataset.\n",
    "* In a correlation matrix, you compute the correlation coefficient between every pair of features in the dataset.\n",
    "* What are the two features that have the biggest correlation in this dataset?"
   ]
  },
  {
   "cell_type": "code",
   "execution_count": 22,
   "id": "d53229f6",
   "metadata": {},
   "outputs": [],
   "source": [
    "df_corr_matrix = df_train[numerical].corr()"
   ]
  },
  {
   "cell_type": "code",
   "execution_count": 23,
   "id": "da0902e9",
   "metadata": {},
   "outputs": [
    {
     "data": {
      "text/html": [
       "<div>\n",
       "<style scoped>\n",
       "    .dataframe tbody tr th:only-of-type {\n",
       "        vertical-align: middle;\n",
       "    }\n",
       "\n",
       "    .dataframe tbody tr th {\n",
       "        vertical-align: top;\n",
       "    }\n",
       "\n",
       "    .dataframe thead th {\n",
       "        text-align: right;\n",
       "    }\n",
       "</style>\n",
       "<table border=\"1\" class=\"dataframe\">\n",
       "  <thead>\n",
       "    <tr style=\"text-align: right;\">\n",
       "      <th></th>\n",
       "      <th>latitude</th>\n",
       "      <th>longitude</th>\n",
       "      <th>minimum_nights</th>\n",
       "      <th>number_of_reviews</th>\n",
       "      <th>reviews_per_month</th>\n",
       "      <th>calculated_host_listings_count</th>\n",
       "      <th>availability_365</th>\n",
       "    </tr>\n",
       "  </thead>\n",
       "  <tbody>\n",
       "    <tr>\n",
       "      <th>latitude</th>\n",
       "      <td>1.000000</td>\n",
       "      <td>0.077832</td>\n",
       "      <td>0.022611</td>\n",
       "      <td>-0.009668</td>\n",
       "      <td>-0.016642</td>\n",
       "      <td>0.018823</td>\n",
       "      <td>-0.008696</td>\n",
       "    </tr>\n",
       "    <tr>\n",
       "      <th>longitude</th>\n",
       "      <td>0.077832</td>\n",
       "      <td>1.000000</td>\n",
       "      <td>-0.064854</td>\n",
       "      <td>0.057652</td>\n",
       "      <td>0.131194</td>\n",
       "      <td>-0.117221</td>\n",
       "      <td>0.084890</td>\n",
       "    </tr>\n",
       "    <tr>\n",
       "      <th>minimum_nights</th>\n",
       "      <td>0.022611</td>\n",
       "      <td>-0.064854</td>\n",
       "      <td>1.000000</td>\n",
       "      <td>-0.078089</td>\n",
       "      <td>-0.122739</td>\n",
       "      <td>0.124147</td>\n",
       "      <td>0.142787</td>\n",
       "    </tr>\n",
       "    <tr>\n",
       "      <th>number_of_reviews</th>\n",
       "      <td>-0.009668</td>\n",
       "      <td>0.057652</td>\n",
       "      <td>-0.078089</td>\n",
       "      <td>1.000000</td>\n",
       "      <td>0.578046</td>\n",
       "      <td>-0.072686</td>\n",
       "      <td>0.179343</td>\n",
       "    </tr>\n",
       "    <tr>\n",
       "      <th>reviews_per_month</th>\n",
       "      <td>-0.016642</td>\n",
       "      <td>0.131194</td>\n",
       "      <td>-0.122739</td>\n",
       "      <td>0.578046</td>\n",
       "      <td>1.000000</td>\n",
       "      <td>-0.045882</td>\n",
       "      <td>0.166073</td>\n",
       "    </tr>\n",
       "    <tr>\n",
       "      <th>calculated_host_listings_count</th>\n",
       "      <td>0.018823</td>\n",
       "      <td>-0.117221</td>\n",
       "      <td>0.124147</td>\n",
       "      <td>-0.072686</td>\n",
       "      <td>-0.045882</td>\n",
       "      <td>1.000000</td>\n",
       "      <td>0.224027</td>\n",
       "    </tr>\n",
       "    <tr>\n",
       "      <th>availability_365</th>\n",
       "      <td>-0.008696</td>\n",
       "      <td>0.084890</td>\n",
       "      <td>0.142787</td>\n",
       "      <td>0.179343</td>\n",
       "      <td>0.166073</td>\n",
       "      <td>0.224027</td>\n",
       "      <td>1.000000</td>\n",
       "    </tr>\n",
       "  </tbody>\n",
       "</table>\n",
       "</div>"
      ],
      "text/plain": [
       "                                latitude  longitude  minimum_nights  \\\n",
       "latitude                        1.000000   0.077832        0.022611   \n",
       "longitude                       0.077832   1.000000       -0.064854   \n",
       "minimum_nights                  0.022611  -0.064854        1.000000   \n",
       "number_of_reviews              -0.009668   0.057652       -0.078089   \n",
       "reviews_per_month              -0.016642   0.131194       -0.122739   \n",
       "calculated_host_listings_count  0.018823  -0.117221        0.124147   \n",
       "availability_365               -0.008696   0.084890        0.142787   \n",
       "\n",
       "                                number_of_reviews  reviews_per_month  \\\n",
       "latitude                                -0.009668          -0.016642   \n",
       "longitude                                0.057652           0.131194   \n",
       "minimum_nights                          -0.078089          -0.122739   \n",
       "number_of_reviews                        1.000000           0.578046   \n",
       "reviews_per_month                        0.578046           1.000000   \n",
       "calculated_host_listings_count          -0.072686          -0.045882   \n",
       "availability_365                         0.179343           0.166073   \n",
       "\n",
       "                                calculated_host_listings_count  \\\n",
       "latitude                                              0.018823   \n",
       "longitude                                            -0.117221   \n",
       "minimum_nights                                        0.124147   \n",
       "number_of_reviews                                    -0.072686   \n",
       "reviews_per_month                                    -0.045882   \n",
       "calculated_host_listings_count                        1.000000   \n",
       "availability_365                                      0.224027   \n",
       "\n",
       "                                availability_365  \n",
       "latitude                               -0.008696  \n",
       "longitude                               0.084890  \n",
       "minimum_nights                          0.142787  \n",
       "number_of_reviews                       0.179343  \n",
       "reviews_per_month                       0.166073  \n",
       "calculated_host_listings_count          0.224027  \n",
       "availability_365                        1.000000  "
      ]
     },
     "execution_count": 23,
     "metadata": {},
     "output_type": "execute_result"
    }
   ],
   "source": [
    "df_corr_matrix"
   ]
  },
  {
   "cell_type": "markdown",
   "id": "a35ee4c0",
   "metadata": {},
   "source": [
    "**The biggest correlation happens between number_of_reviews & reviews_per_month = 0.578046**"
   ]
  },
  {
   "cell_type": "markdown",
   "id": "7a83253a",
   "metadata": {},
   "source": [
    "# Make price binary\n",
    "* We need to turn the price variable from numeric into binary.\n",
    "* Let's create a variable above_average which is 1 if the price is above (or equal to) 152."
   ]
  },
  {
   "cell_type": "code",
   "execution_count": 54,
   "id": "b75f01c2",
   "metadata": {},
   "outputs": [],
   "source": [
    "y_train_above_avg = (y_train >= 152).astype('int')\n",
    "y_val_above_avg = (y_val >= 152).astype('int')\n",
    "y_test_above_avg = (y_test >= 152).astype('int')"
   ]
  },
  {
   "cell_type": "code",
   "execution_count": 55,
   "id": "a7421a39",
   "metadata": {},
   "outputs": [
    {
     "data": {
      "text/plain": [
       "array([1, 0, 0, ..., 1, 0, 0])"
      ]
     },
     "execution_count": 55,
     "metadata": {},
     "output_type": "execute_result"
    }
   ],
   "source": [
    "y_train_above_avg.astype('int')"
   ]
  },
  {
   "cell_type": "code",
   "execution_count": 31,
   "id": "d187e920",
   "metadata": {},
   "outputs": [
    {
     "data": {
      "text/plain": [
       "array([170,  50,  40, ..., 179,  74,  90], dtype=int64)"
      ]
     },
     "execution_count": 31,
     "metadata": {},
     "output_type": "execute_result"
    }
   ],
   "source": [
    "y_train"
   ]
  },
  {
   "cell_type": "code",
   "execution_count": 33,
   "id": "7e689789",
   "metadata": {},
   "outputs": [],
   "source": [
    "df_train['above_average'] = (y_train >= 152)"
   ]
  },
  {
   "cell_type": "code",
   "execution_count": 34,
   "id": "8b06808b",
   "metadata": {},
   "outputs": [
    {
     "data": {
      "text/html": [
       "<div>\n",
       "<style scoped>\n",
       "    .dataframe tbody tr th:only-of-type {\n",
       "        vertical-align: middle;\n",
       "    }\n",
       "\n",
       "    .dataframe tbody tr th {\n",
       "        vertical-align: top;\n",
       "    }\n",
       "\n",
       "    .dataframe thead th {\n",
       "        text-align: right;\n",
       "    }\n",
       "</style>\n",
       "<table border=\"1\" class=\"dataframe\">\n",
       "  <thead>\n",
       "    <tr style=\"text-align: right;\">\n",
       "      <th></th>\n",
       "      <th>id</th>\n",
       "      <th>name</th>\n",
       "      <th>host_id</th>\n",
       "      <th>host_name</th>\n",
       "      <th>neighbourhood_group</th>\n",
       "      <th>neighbourhood</th>\n",
       "      <th>latitude</th>\n",
       "      <th>longitude</th>\n",
       "      <th>room_type</th>\n",
       "      <th>minimum_nights</th>\n",
       "      <th>number_of_reviews</th>\n",
       "      <th>last_review</th>\n",
       "      <th>reviews_per_month</th>\n",
       "      <th>calculated_host_listings_count</th>\n",
       "      <th>availability_365</th>\n",
       "      <th>above_average</th>\n",
       "    </tr>\n",
       "  </thead>\n",
       "  <tbody>\n",
       "    <tr>\n",
       "      <th>0</th>\n",
       "      <td>1520806</td>\n",
       "      <td>huge_2br+1ba_apt_for_group_only_15_min_to_nycity</td>\n",
       "      <td>347642</td>\n",
       "      <td>jullien</td>\n",
       "      <td>brooklyn</td>\n",
       "      <td>bedford-stuyvesant</td>\n",
       "      <td>40.68084</td>\n",
       "      <td>-73.92804</td>\n",
       "      <td>entire_home/apt</td>\n",
       "      <td>3</td>\n",
       "      <td>134</td>\n",
       "      <td>2019-06-20</td>\n",
       "      <td>2.00</td>\n",
       "      <td>3</td>\n",
       "      <td>209</td>\n",
       "      <td>True</td>\n",
       "    </tr>\n",
       "    <tr>\n",
       "      <th>1</th>\n",
       "      <td>20794837</td>\n",
       "      <td>one_bedroom</td>\n",
       "      <td>149071197</td>\n",
       "      <td>sydnee</td>\n",
       "      <td>manhattan</td>\n",
       "      <td>harlem</td>\n",
       "      <td>40.82040</td>\n",
       "      <td>-73.93867</td>\n",
       "      <td>private_room</td>\n",
       "      <td>1</td>\n",
       "      <td>2</td>\n",
       "      <td>2017-09-10</td>\n",
       "      <td>0.09</td>\n",
       "      <td>1</td>\n",
       "      <td>0</td>\n",
       "      <td>False</td>\n",
       "    </tr>\n",
       "    <tr>\n",
       "      <th>2</th>\n",
       "      <td>30965275</td>\n",
       "      <td>basement_in_a_gorgeous_brooklyn_brownstone</td>\n",
       "      <td>231370569</td>\n",
       "      <td>sharyn</td>\n",
       "      <td>brooklyn</td>\n",
       "      <td>bedford-stuyvesant</td>\n",
       "      <td>40.69007</td>\n",
       "      <td>-73.94326</td>\n",
       "      <td>private_room</td>\n",
       "      <td>7</td>\n",
       "      <td>13</td>\n",
       "      <td>2019-06-26</td>\n",
       "      <td>2.39</td>\n",
       "      <td>1</td>\n",
       "      <td>93</td>\n",
       "      <td>False</td>\n",
       "    </tr>\n",
       "    <tr>\n",
       "      <th>3</th>\n",
       "      <td>24677673</td>\n",
       "      <td>large,_private,_sunny_room_8_min_to_subway_-ha...</td>\n",
       "      <td>4538012</td>\n",
       "      <td>karen</td>\n",
       "      <td>manhattan</td>\n",
       "      <td>east_harlem</td>\n",
       "      <td>40.80931</td>\n",
       "      <td>-73.93982</td>\n",
       "      <td>private_room</td>\n",
       "      <td>4</td>\n",
       "      <td>8</td>\n",
       "      <td>2019-06-18</td>\n",
       "      <td>0.64</td>\n",
       "      <td>4</td>\n",
       "      <td>0</td>\n",
       "      <td>False</td>\n",
       "    </tr>\n",
       "    <tr>\n",
       "      <th>4</th>\n",
       "      <td>2282085</td>\n",
       "      <td>duplex_ph_2_bedloft_williamsburg</td>\n",
       "      <td>2044302</td>\n",
       "      <td>christopher</td>\n",
       "      <td>brooklyn</td>\n",
       "      <td>williamsburg</td>\n",
       "      <td>40.71969</td>\n",
       "      <td>-73.95830</td>\n",
       "      <td>entire_home/apt</td>\n",
       "      <td>1</td>\n",
       "      <td>0</td>\n",
       "      <td>NaN</td>\n",
       "      <td>0.00</td>\n",
       "      <td>1</td>\n",
       "      <td>0</td>\n",
       "      <td>True</td>\n",
       "    </tr>\n",
       "    <tr>\n",
       "      <th>...</th>\n",
       "      <td>...</td>\n",
       "      <td>...</td>\n",
       "      <td>...</td>\n",
       "      <td>...</td>\n",
       "      <td>...</td>\n",
       "      <td>...</td>\n",
       "      <td>...</td>\n",
       "      <td>...</td>\n",
       "      <td>...</td>\n",
       "      <td>...</td>\n",
       "      <td>...</td>\n",
       "      <td>...</td>\n",
       "      <td>...</td>\n",
       "      <td>...</td>\n",
       "      <td>...</td>\n",
       "      <td>...</td>\n",
       "    </tr>\n",
       "    <tr>\n",
       "      <th>29332</th>\n",
       "      <td>29730504</td>\n",
       "      <td>brooklyn_apartment_with_tons_of_light</td>\n",
       "      <td>223667060</td>\n",
       "      <td>rachel</td>\n",
       "      <td>brooklyn</td>\n",
       "      <td>bushwick</td>\n",
       "      <td>40.69293</td>\n",
       "      <td>-73.90537</td>\n",
       "      <td>entire_home/apt</td>\n",
       "      <td>1</td>\n",
       "      <td>4</td>\n",
       "      <td>2019-02-10</td>\n",
       "      <td>0.48</td>\n",
       "      <td>1</td>\n",
       "      <td>35</td>\n",
       "      <td>False</td>\n",
       "    </tr>\n",
       "    <tr>\n",
       "      <th>29333</th>\n",
       "      <td>28335031</td>\n",
       "      <td>chic_studio_in_a_great_neighborhood</td>\n",
       "      <td>11050667</td>\n",
       "      <td>michelle</td>\n",
       "      <td>manhattan</td>\n",
       "      <td>chelsea</td>\n",
       "      <td>40.73917</td>\n",
       "      <td>-73.99412</td>\n",
       "      <td>entire_home/apt</td>\n",
       "      <td>4</td>\n",
       "      <td>7</td>\n",
       "      <td>2019-05-14</td>\n",
       "      <td>0.77</td>\n",
       "      <td>1</td>\n",
       "      <td>0</td>\n",
       "      <td>True</td>\n",
       "    </tr>\n",
       "    <tr>\n",
       "      <th>29334</th>\n",
       "      <td>941642</td>\n",
       "      <td>hell's_kitchen_studio_for_2_or_3</td>\n",
       "      <td>4888599</td>\n",
       "      <td>rod</td>\n",
       "      <td>manhattan</td>\n",
       "      <td>hell's_kitchen</td>\n",
       "      <td>40.76662</td>\n",
       "      <td>-73.99302</td>\n",
       "      <td>entire_home/apt</td>\n",
       "      <td>3</td>\n",
       "      <td>209</td>\n",
       "      <td>2019-06-11</td>\n",
       "      <td>2.70</td>\n",
       "      <td>1</td>\n",
       "      <td>202</td>\n",
       "      <td>True</td>\n",
       "    </tr>\n",
       "    <tr>\n",
       "      <th>29335</th>\n",
       "      <td>20792967</td>\n",
       "      <td>your_own_flat_in_historic_bed-stuy_district</td>\n",
       "      <td>2648270</td>\n",
       "      <td>jaweer</td>\n",
       "      <td>brooklyn</td>\n",
       "      <td>bedford-stuyvesant</td>\n",
       "      <td>40.68462</td>\n",
       "      <td>-73.93724</td>\n",
       "      <td>entire_home/apt</td>\n",
       "      <td>4</td>\n",
       "      <td>1</td>\n",
       "      <td>2017-09-30</td>\n",
       "      <td>0.05</td>\n",
       "      <td>1</td>\n",
       "      <td>0</td>\n",
       "      <td>False</td>\n",
       "    </tr>\n",
       "    <tr>\n",
       "      <th>29336</th>\n",
       "      <td>4753639</td>\n",
       "      <td>heaven_on_riverside</td>\n",
       "      <td>24530713</td>\n",
       "      <td>byron</td>\n",
       "      <td>manhattan</td>\n",
       "      <td>harlem</td>\n",
       "      <td>40.82332</td>\n",
       "      <td>-73.95471</td>\n",
       "      <td>private_room</td>\n",
       "      <td>2</td>\n",
       "      <td>16</td>\n",
       "      <td>2019-04-30</td>\n",
       "      <td>0.30</td>\n",
       "      <td>3</td>\n",
       "      <td>235</td>\n",
       "      <td>False</td>\n",
       "    </tr>\n",
       "  </tbody>\n",
       "</table>\n",
       "<p>29337 rows × 16 columns</p>\n",
       "</div>"
      ],
      "text/plain": [
       "             id                                               name    host_id  \\\n",
       "0       1520806   huge_2br+1ba_apt_for_group_only_15_min_to_nycity     347642   \n",
       "1      20794837                                        one_bedroom  149071197   \n",
       "2      30965275         basement_in_a_gorgeous_brooklyn_brownstone  231370569   \n",
       "3      24677673  large,_private,_sunny_room_8_min_to_subway_-ha...    4538012   \n",
       "4       2282085                   duplex_ph_2_bedloft_williamsburg    2044302   \n",
       "...         ...                                                ...        ...   \n",
       "29332  29730504              brooklyn_apartment_with_tons_of_light  223667060   \n",
       "29333  28335031                chic_studio_in_a_great_neighborhood   11050667   \n",
       "29334    941642                   hell's_kitchen_studio_for_2_or_3    4888599   \n",
       "29335  20792967        your_own_flat_in_historic_bed-stuy_district    2648270   \n",
       "29336   4753639                                heaven_on_riverside   24530713   \n",
       "\n",
       "         host_name neighbourhood_group       neighbourhood  latitude  \\\n",
       "0          jullien            brooklyn  bedford-stuyvesant  40.68084   \n",
       "1           sydnee           manhattan              harlem  40.82040   \n",
       "2           sharyn            brooklyn  bedford-stuyvesant  40.69007   \n",
       "3            karen           manhattan         east_harlem  40.80931   \n",
       "4      christopher            brooklyn        williamsburg  40.71969   \n",
       "...            ...                 ...                 ...       ...   \n",
       "29332       rachel            brooklyn            bushwick  40.69293   \n",
       "29333     michelle           manhattan             chelsea  40.73917   \n",
       "29334          rod           manhattan      hell's_kitchen  40.76662   \n",
       "29335       jaweer            brooklyn  bedford-stuyvesant  40.68462   \n",
       "29336        byron           manhattan              harlem  40.82332   \n",
       "\n",
       "       longitude        room_type  minimum_nights  number_of_reviews  \\\n",
       "0      -73.92804  entire_home/apt               3                134   \n",
       "1      -73.93867     private_room               1                  2   \n",
       "2      -73.94326     private_room               7                 13   \n",
       "3      -73.93982     private_room               4                  8   \n",
       "4      -73.95830  entire_home/apt               1                  0   \n",
       "...          ...              ...             ...                ...   \n",
       "29332  -73.90537  entire_home/apt               1                  4   \n",
       "29333  -73.99412  entire_home/apt               4                  7   \n",
       "29334  -73.99302  entire_home/apt               3                209   \n",
       "29335  -73.93724  entire_home/apt               4                  1   \n",
       "29336  -73.95471     private_room               2                 16   \n",
       "\n",
       "      last_review  reviews_per_month  calculated_host_listings_count  \\\n",
       "0      2019-06-20               2.00                               3   \n",
       "1      2017-09-10               0.09                               1   \n",
       "2      2019-06-26               2.39                               1   \n",
       "3      2019-06-18               0.64                               4   \n",
       "4             NaN               0.00                               1   \n",
       "...           ...                ...                             ...   \n",
       "29332  2019-02-10               0.48                               1   \n",
       "29333  2019-05-14               0.77                               1   \n",
       "29334  2019-06-11               2.70                               1   \n",
       "29335  2017-09-30               0.05                               1   \n",
       "29336  2019-04-30               0.30                               3   \n",
       "\n",
       "       availability_365  above_average  \n",
       "0                   209           True  \n",
       "1                     0          False  \n",
       "2                    93          False  \n",
       "3                     0          False  \n",
       "4                     0           True  \n",
       "...                 ...            ...  \n",
       "29332                35          False  \n",
       "29333                 0           True  \n",
       "29334               202           True  \n",
       "29335                 0          False  \n",
       "29336               235          False  \n",
       "\n",
       "[29337 rows x 16 columns]"
      ]
     },
     "execution_count": 34,
     "metadata": {},
     "output_type": "execute_result"
    }
   ],
   "source": [
    "df_train"
   ]
  },
  {
   "cell_type": "markdown",
   "id": "bd95473e",
   "metadata": {},
   "source": [
    "# Question 3\n",
    "* Calculate the mutual information score with the (binarized) price for the two categorical variables that we have. Use the training set only.\n",
    "* Which of these two variables has bigger score?\n",
    "* Round it to 2 decimal digits using round(score, 2)"
   ]
  },
  {
   "cell_type": "code",
   "execution_count": 35,
   "id": "00456d34",
   "metadata": {},
   "outputs": [],
   "source": [
    "from sklearn.metrics import mutual_info_score"
   ]
  },
  {
   "cell_type": "code",
   "execution_count": 36,
   "id": "af8e44f0",
   "metadata": {},
   "outputs": [],
   "source": [
    "def mutual_info_price_score(series):\n",
    "    return mutual_info_score(series,df_train.above_average)"
   ]
  },
  {
   "cell_type": "code",
   "execution_count": 37,
   "id": "9bc841cf",
   "metadata": {},
   "outputs": [],
   "source": [
    "mi = df_train[categorical].apply(mutual_info_price_score)"
   ]
  },
  {
   "cell_type": "code",
   "execution_count": 39,
   "id": "604bb9f4",
   "metadata": {},
   "outputs": [
    {
     "data": {
      "text/plain": [
       "room_type              0.14\n",
       "neighbourhood_group    0.05\n",
       "dtype: float64"
      ]
     },
     "execution_count": 39,
     "metadata": {},
     "output_type": "execute_result"
    }
   ],
   "source": [
    "mi.sort_values(ascending = False).round(2)"
   ]
  },
  {
   "cell_type": "markdown",
   "id": "40a2a731",
   "metadata": {},
   "source": [
    "* The room_type has the biggest score = 0.14"
   ]
  },
  {
   "cell_type": "markdown",
   "id": "46f63f36",
   "metadata": {},
   "source": [
    "# Question 4\n",
    "* Now let's train a logistic regression\n",
    "* Remember that we have two categorical variables in the data. Include them using one-hot encoding.\n",
    "* Fit the model on the training dataset.\n",
    "* To make sure the results are reproducible across different versions of Scikit-Learn, fit the model with these parameters:\n",
    "* model = LogisticRegression(solver='lbfgs', C=1.0, random_state=42)\n",
    "* Calculate the accuracy on the validation dataset and rount it to 2 decimal digits."
   ]
  },
  {
   "cell_type": "markdown",
   "id": "d17e57c2",
   "metadata": {},
   "source": [
    "**first we include one-hot encoding**"
   ]
  },
  {
   "cell_type": "code",
   "execution_count": 40,
   "id": "5d0f39ba",
   "metadata": {},
   "outputs": [],
   "source": [
    "from sklearn.feature_extraction import DictVectorizer"
   ]
  },
  {
   "cell_type": "code",
   "execution_count": 46,
   "id": "b06b38be",
   "metadata": {},
   "outputs": [],
   "source": [
    "train_dicts = df_train[categorical + numerical].to_dict(orient = 'records')\n",
    "\n",
    "dv = DictVectorizer(sparse = False)"
   ]
  },
  {
   "cell_type": "code",
   "execution_count": 47,
   "id": "10d32c64",
   "metadata": {},
   "outputs": [
    {
     "data": {
      "text/plain": [
       "(29337, 15)"
      ]
     },
     "execution_count": 47,
     "metadata": {},
     "output_type": "execute_result"
    }
   ],
   "source": [
    "dv.fit(train_dicts)\n",
    "X_train = dv.transform(train_dicts)\n",
    "X_train\n",
    "X_train.shape"
   ]
  },
  {
   "cell_type": "code",
   "execution_count": 49,
   "id": "0f9fdcee",
   "metadata": {},
   "outputs": [
    {
     "data": {
      "text/plain": [
       "array([[209.     ,   3.     ,  40.68084, ...,   1.     ,   0.     ,\n",
       "          0.     ],\n",
       "       [  0.     ,   1.     ,  40.8204 , ...,   0.     ,   1.     ,\n",
       "          0.     ],\n",
       "       [ 93.     ,   1.     ,  40.69007, ...,   0.     ,   1.     ,\n",
       "          0.     ],\n",
       "       ...,\n",
       "       [202.     ,   1.     ,  40.76662, ...,   1.     ,   0.     ,\n",
       "          0.     ],\n",
       "       [  0.     ,   1.     ,  40.68462, ...,   1.     ,   0.     ,\n",
       "          0.     ],\n",
       "       [235.     ,   3.     ,  40.82332, ...,   0.     ,   1.     ,\n",
       "          0.     ]])"
      ]
     },
     "execution_count": 49,
     "metadata": {},
     "output_type": "execute_result"
    }
   ],
   "source": [
    "X_train"
   ]
  },
  {
   "cell_type": "code",
   "execution_count": 50,
   "id": "5323065c",
   "metadata": {},
   "outputs": [
    {
     "data": {
      "text/plain": [
       "array([209.     ,   3.     ,  40.68084, -73.92804,   3.     ,   0.     ,\n",
       "         1.     ,   0.     ,   0.     ,   0.     , 134.     ,   2.     ,\n",
       "         1.     ,   0.     ,   0.     ])"
      ]
     },
     "execution_count": 50,
     "metadata": {},
     "output_type": "execute_result"
    }
   ],
   "source": [
    "X_train[0]"
   ]
  },
  {
   "cell_type": "code",
   "execution_count": 51,
   "id": "ee3fddad",
   "metadata": {},
   "outputs": [
    {
     "data": {
      "text/plain": [
       "['availability_365',\n",
       " 'calculated_host_listings_count',\n",
       " 'latitude',\n",
       " 'longitude',\n",
       " 'minimum_nights',\n",
       " 'neighbourhood_group=bronx',\n",
       " 'neighbourhood_group=brooklyn',\n",
       " 'neighbourhood_group=manhattan',\n",
       " 'neighbourhood_group=queens',\n",
       " 'neighbourhood_group=staten_island',\n",
       " 'number_of_reviews',\n",
       " 'reviews_per_month',\n",
       " 'room_type=entire_home/apt',\n",
       " 'room_type=private_room',\n",
       " 'room_type=shared_room']"
      ]
     },
     "execution_count": 51,
     "metadata": {},
     "output_type": "execute_result"
    }
   ],
   "source": [
    "dv.get_feature_names()"
   ]
  },
  {
   "cell_type": "code",
   "execution_count": 52,
   "id": "e6723874",
   "metadata": {},
   "outputs": [
    {
     "data": {
      "text/plain": [
       "(9779, 15)"
      ]
     },
     "execution_count": 52,
     "metadata": {},
     "output_type": "execute_result"
    }
   ],
   "source": [
    "val_dicts = df_val[categorical + numerical].to_dict(orient = 'records')\n",
    "\n",
    "dv = DictVectorizer(sparse = False)\n",
    "\n",
    "dv.fit(val_dicts)\n",
    "X_val = dv.transform(val_dicts)\n",
    "X_val\n",
    "X_val.shape"
   ]
  },
  {
   "cell_type": "markdown",
   "id": "b8bf4fa5",
   "metadata": {},
   "source": [
    "**Train the model using logistic regression**"
   ]
  },
  {
   "cell_type": "code",
   "execution_count": 53,
   "id": "1b64b12d",
   "metadata": {},
   "outputs": [],
   "source": [
    "from sklearn.linear_model import LogisticRegression"
   ]
  },
  {
   "cell_type": "code",
   "execution_count": 56,
   "id": "b1466e79",
   "metadata": {},
   "outputs": [
    {
     "data": {
      "text/plain": [
       "LogisticRegression(random_state=42, solver='liblinear')"
      ]
     },
     "execution_count": 56,
     "metadata": {},
     "output_type": "execute_result"
    }
   ],
   "source": [
    "model = LogisticRegression(solver='liblinear', C=1.0, random_state=42)\n",
    "model.fit(X_train,y_train_above_avg)"
   ]
  },
  {
   "cell_type": "code",
   "execution_count": 57,
   "id": "694e0a01",
   "metadata": {},
   "outputs": [
    {
     "data": {
      "text/plain": [
       "-0.10349402323328087"
      ]
     },
     "execution_count": 57,
     "metadata": {},
     "output_type": "execute_result"
    }
   ],
   "source": [
    "model.intercept_[0]"
   ]
  },
  {
   "cell_type": "code",
   "execution_count": 58,
   "id": "1a0af354",
   "metadata": {},
   "outputs": [
    {
     "data": {
      "text/plain": [
       "array([ 3.000e-03,  4.000e-03, -5.870e+00, -3.195e+00, -1.300e-02,\n",
       "       -2.180e-01,  1.900e-01,  1.617e+00,  6.000e-03, -1.698e+00,\n",
       "       -3.000e-03, -5.400e-02,  1.931e+00, -8.610e-01, -1.173e+00])"
      ]
     },
     "execution_count": 58,
     "metadata": {},
     "output_type": "execute_result"
    }
   ],
   "source": [
    "model.coef_[0].round(3)"
   ]
  },
  {
   "cell_type": "code",
   "execution_count": 60,
   "id": "ca1393b9",
   "metadata": {},
   "outputs": [
    {
     "data": {
      "text/plain": [
       "array([[0.61707695, 0.38292305],\n",
       "       [0.93813471, 0.06186529],\n",
       "       [0.96477595, 0.03522405],\n",
       "       ...,\n",
       "       [0.41931486, 0.58068514],\n",
       "       [0.64486606, 0.35513394],\n",
       "       [0.88004806, 0.11995194]])"
      ]
     },
     "execution_count": 60,
     "metadata": {},
     "output_type": "execute_result"
    }
   ],
   "source": [
    "model.predict_proba(X_train)"
   ]
  },
  {
   "cell_type": "code",
   "execution_count": 61,
   "id": "3a94edbd",
   "metadata": {},
   "outputs": [],
   "source": [
    "y_pred = model.predict_proba(X_train)[:,1]"
   ]
  },
  {
   "cell_type": "code",
   "execution_count": 62,
   "id": "21679d10",
   "metadata": {},
   "outputs": [],
   "source": [
    "price_above_avg_decision = (y_pred >= 0.5)"
   ]
  },
  {
   "cell_type": "code",
   "execution_count": 63,
   "id": "b4905903",
   "metadata": {},
   "outputs": [],
   "source": [
    "y_pred = model.predict_proba(X_val)[:,1]\n",
    "\n",
    "price_above_avg_decision = (y_pred >= 0.5)"
   ]
  },
  {
   "cell_type": "code",
   "execution_count": 65,
   "id": "a9efac10",
   "metadata": {},
   "outputs": [
    {
     "data": {
      "text/plain": [
       "array([1, 1, 0, ..., 0, 0, 0])"
      ]
     },
     "execution_count": 65,
     "metadata": {},
     "output_type": "execute_result"
    }
   ],
   "source": [
    "y_val_above_avg"
   ]
  },
  {
   "cell_type": "code",
   "execution_count": 66,
   "id": "93d9524a",
   "metadata": {},
   "outputs": [
    {
     "data": {
      "text/plain": [
       "array([1, 0, 0, ..., 0, 0, 0])"
      ]
     },
     "execution_count": 66,
     "metadata": {},
     "output_type": "execute_result"
    }
   ],
   "source": [
    "price_above_avg_decision.astype('int')"
   ]
  },
  {
   "cell_type": "code",
   "execution_count": 67,
   "id": "91ab737c",
   "metadata": {},
   "outputs": [
    {
     "data": {
      "text/plain": [
       "0.7950710706616219"
      ]
     },
     "execution_count": 67,
     "metadata": {},
     "output_type": "execute_result"
    }
   ],
   "source": [
    "(y_val_above_avg ==price_above_avg_decision).mean()"
   ]
  },
  {
   "cell_type": "markdown",
   "id": "061b0f32",
   "metadata": {},
   "source": [
    "**So the accuracy of the model is**"
   ]
  },
  {
   "cell_type": "code",
   "execution_count": 70,
   "id": "1ceaeb73",
   "metadata": {},
   "outputs": [
    {
     "data": {
      "text/plain": [
       "0.795"
      ]
     },
     "execution_count": 70,
     "metadata": {},
     "output_type": "execute_result"
    }
   ],
   "source": [
    "accuracy = (y_val_above_avg ==price_above_avg_decision).mean().round(3)\n",
    "accuracy"
   ]
  },
  {
   "cell_type": "markdown",
   "id": "3fae3c63",
   "metadata": {},
   "source": [
    "the closest one on the form is 0.79"
   ]
  },
  {
   "cell_type": "markdown",
   "id": "a2b9a2ea",
   "metadata": {},
   "source": [
    "# Question 5\n",
    "* We have 9 features: 7 numerical features and 2 categorical.\n",
    "* Let's find the least useful one using the feature elimination technique.\n",
    "* Train a model with all these features (using the same parameters as in Q4).\n",
    "* Now exclude each feature from this set and train a model without it. Record the accuracy for each model.\n",
    "* For each feature, calculate the difference between the original accuracy and the accuracy without the feature.\n",
    "* Which of following feature has the smallest difference?\n",
    "*   neighbourhood_group\n",
    "*   room_type\n",
    "*   number_of_reviews\n",
    "*   reviews_per_month\n",
    "*note: the difference doesn't have to be positive"
   ]
  },
  {
   "cell_type": "code",
   "execution_count": 116,
   "id": "17bb42d8",
   "metadata": {},
   "outputs": [],
   "source": [
    "to_exclude_numerical = ['number_of_reviews','reviews_per_month',]"
   ]
  },
  {
   "cell_type": "code",
   "execution_count": 137,
   "id": "9b54d6f9",
   "metadata": {},
   "outputs": [],
   "source": [
    "to_exclude_categorical = ['neighbourhood_group', 'room_type']"
   ]
  },
  {
   "cell_type": "code",
   "execution_count": 126,
   "id": "542df2cf",
   "metadata": {},
   "outputs": [],
   "source": [
    "num = numerical.copy()"
   ]
  },
  {
   "cell_type": "code",
   "execution_count": 127,
   "id": "d6363610",
   "metadata": {},
   "outputs": [],
   "source": [
    "num.remove(to_exclude_numerical[0])"
   ]
  },
  {
   "cell_type": "code",
   "execution_count": 128,
   "id": "658859ff",
   "metadata": {},
   "outputs": [
    {
     "data": {
      "text/plain": [
       "['latitude',\n",
       " 'longitude',\n",
       " 'minimum_nights',\n",
       " 'reviews_per_month',\n",
       " 'calculated_host_listings_count',\n",
       " 'availability_365']"
      ]
     },
     "execution_count": 128,
     "metadata": {},
     "output_type": "execute_result"
    }
   ],
   "source": [
    "num"
   ]
  },
  {
   "cell_type": "code",
   "execution_count": 129,
   "id": "b688e8ca",
   "metadata": {},
   "outputs": [
    {
     "data": {
      "text/plain": [
       "['latitude',\n",
       " 'longitude',\n",
       " 'minimum_nights',\n",
       " 'number_of_reviews',\n",
       " 'reviews_per_month',\n",
       " 'calculated_host_listings_count',\n",
       " 'availability_365']"
      ]
     },
     "execution_count": 129,
     "metadata": {},
     "output_type": "execute_result"
    }
   ],
   "source": [
    "numerical"
   ]
  },
  {
   "cell_type": "code",
   "execution_count": 144,
   "id": "35db9538",
   "metadata": {},
   "outputs": [
    {
     "data": {
      "text/plain": [
       "0.7950710706616219"
      ]
     },
     "execution_count": 144,
     "metadata": {},
     "output_type": "execute_result"
    }
   ],
   "source": [
    "    train_dicts = df_train[categorical + numerical].to_dict(orient = 'records')\n",
    "    dv = DictVectorizer(sparse = False)\n",
    "\n",
    "    dv.fit(train_dicts)\n",
    "    X_train = dv.transform(train_dicts)\n",
    "\n",
    "    val_dicts = df_val[categorical + numerical].to_dict(orient = 'records')\n",
    "    dv = DictVectorizer(sparse = False)\n",
    "\n",
    "    dv.fit(val_dicts)\n",
    "    X_val = dv.transform(val_dicts)\n",
    "\n",
    "    \n",
    "    model = LogisticRegression(solver='liblinear', C=1.0, random_state=42)\n",
    "    model.fit(X_train,y_train_above_avg)\n",
    "\n",
    "    y_pred = model.predict_proba(X_val)[:,1]\n",
    "    price_above_avg_decision = (y_pred >= 0.5)\n",
    "    \n",
    "\n",
    "    accuracy = (y_val_above_avg ==price_above_avg_decision).mean()\n",
    "    accuracy"
   ]
  },
  {
   "cell_type": "markdown",
   "id": "44d91ab5",
   "metadata": {},
   "source": [
    "**First let's start excluding numericals**"
   ]
  },
  {
   "cell_type": "code",
   "execution_count": 143,
   "id": "80c4db8f",
   "metadata": {},
   "outputs": [
    {
     "name": "stdout",
     "output_type": "stream",
     "text": [
      "number_of_reviews 0.793946211269046 0.0011248593925758943\n",
      "reviews_per_month 0.7954801104407404 -0.0004090397791185474\n",
      "neighbourhood_group 0.7457817772778402 0.04928929338378163\n",
      "room_type 0.7374987217506902 0.05757234891093166\n"
     ]
    }
   ],
   "source": [
    "for i in range(len(to_exclude_numerical)):\n",
    "    num = numerical.copy()\n",
    "    num.remove(to_exclude_numerical[i], )\n",
    "    \n",
    "    \n",
    "    train_dicts = df_train[categorical + num].to_dict(orient = 'records')\n",
    "    dv = DictVectorizer(sparse = False)\n",
    "\n",
    "    dv.fit(train_dicts)\n",
    "    X_train = dv.transform(train_dicts)\n",
    "\n",
    "    val_dicts = df_val[categorical + num].to_dict(orient = 'records')\n",
    "    dv = DictVectorizer(sparse = False)\n",
    "\n",
    "    dv.fit(val_dicts)\n",
    "    X_val = dv.transform(val_dicts)\n",
    "\n",
    "    \n",
    "    model = LogisticRegression(solver='liblinear', C=1.0, random_state=42)\n",
    "    model.fit(X_train,y_train_above_avg)\n",
    "\n",
    "    y_pred = model.predict_proba(X_val)[:,1]\n",
    "    price_above_avg_decision = (y_pred >= 0.5)\n",
    "    \n",
    "\n",
    "    accuracy_exclude = (y_val_above_avg ==price_above_avg_decision).mean()\n",
    "    diff = accuracy - accuracy_exclude\n",
    "    print(to_exclude_numerical[i], accuracy_exclude, diff)\n",
    "    \n",
    "    \n",
    "for i in range(len(to_exclude_categorical)):\n",
    "    cat = categorical.copy()\n",
    "    cat.remove(to_exclude_categorical[i], )\n",
    "    \n",
    "    \n",
    "    train_dicts = df_train[cat + numerical].to_dict(orient = 'records')\n",
    "    dv = DictVectorizer(sparse = False)\n",
    "\n",
    "    dv.fit(train_dicts)\n",
    "    X_train = dv.transform(train_dicts)\n",
    "\n",
    "    val_dicts = df_val[cat + numerical].to_dict(orient = 'records')\n",
    "    dv = DictVectorizer(sparse = False)\n",
    "\n",
    "    dv.fit(val_dicts)\n",
    "    X_val = dv.transform(val_dicts)\n",
    "\n",
    "    \n",
    "    model = LogisticRegression(solver='liblinear', C=1.0, random_state=42)\n",
    "    model.fit(X_train,y_train_above_avg)\n",
    "\n",
    "    y_pred = model.predict_proba(X_val)[:,1]\n",
    "    price_above_avg_decision = (y_pred >= 0.5)\n",
    "    \n",
    "\n",
    "    accuracy_exclude = (y_val_above_avg ==price_above_avg_decision).mean()\n",
    "    diff = accuracy - accuracy_exclude\n",
    "    print(to_exclude_categorical[i], accuracy_exclude, diff)\n",
    "    \n",
    "    "
   ]
  },
  {
   "cell_type": "markdown",
   "id": "43daf3e7",
   "metadata": {},
   "source": [
    "**reviews_per_month  has the smallest difference = -0.0004090397791185474**"
   ]
  },
  {
   "cell_type": "markdown",
   "id": "36cd6511",
   "metadata": {},
   "source": [
    "# Question 6\n",
    "* For this question, we'll see how to use a linear regression model from Scikit-Learn\n",
    "* We'll need to use the original column 'price'. Apply the logarithmic transformation to this column.\n",
    "* Fit the Ridge regression model on the training data.\n",
    "* This model has a parameter alpha. Let's try the following values: [0, 0.01, 0.1, 1, 10]\n",
    "* Which of these alphas leads to the best RMSE on the validation set? Round your RMSE scores to 3 decimal digits.\n",
    "* If there are multiple options, select the smallest alpha."
   ]
  },
  {
   "cell_type": "code",
   "execution_count": 145,
   "id": "df96f5f7",
   "metadata": {},
   "outputs": [],
   "source": [
    "from sklearn.linear_model import LinearRegression"
   ]
  },
  {
   "cell_type": "code",
   "execution_count": 205,
   "id": "3473c82b",
   "metadata": {},
   "outputs": [],
   "source": [
    "y_train_log = np.log1p(y_train)\n",
    "y_val_log = np.log1p(y_val)\n",
    "y_test_log = np.log1p(y_test)"
   ]
  },
  {
   "cell_type": "code",
   "execution_count": 206,
   "id": "0b779a4d",
   "metadata": {},
   "outputs": [],
   "source": [
    "train_dicts = df_train[categorical + numerical].to_dict(orient = 'records')\n",
    "dv = DictVectorizer(sparse = False)\n",
    "\n",
    "dv.fit(train_dicts)\n",
    "X_train = dv.transform(train_dicts)\n",
    "\n",
    "val_dicts = df_val[categorical + numerical].to_dict(orient = 'records')\n",
    "dv = DictVectorizer(sparse = False)\n",
    "\n",
    "dv.fit(val_dicts)\n",
    "X_val = dv.transform(val_dicts)\n",
    "\n",
    "    \n",
    "model = LinearRegression().fit(X_train,y_train_log)\n",
    "\n",
    "y_pred = model.predict(X_val)"
   ]
  },
  {
   "cell_type": "code",
   "execution_count": 207,
   "id": "ff795d69",
   "metadata": {},
   "outputs": [
    {
     "data": {
      "text/plain": [
       "['availability_365',\n",
       " 'calculated_host_listings_count',\n",
       " 'latitude',\n",
       " 'longitude',\n",
       " 'minimum_nights',\n",
       " 'neighbourhood_group=bronx',\n",
       " 'neighbourhood_group=brooklyn',\n",
       " 'neighbourhood_group=manhattan',\n",
       " 'neighbourhood_group=queens',\n",
       " 'neighbourhood_group=staten_island',\n",
       " 'number_of_reviews',\n",
       " 'reviews_per_month',\n",
       " 'room_type=entire_home/apt',\n",
       " 'room_type=private_room',\n",
       " 'room_type=shared_room']"
      ]
     },
     "execution_count": 207,
     "metadata": {},
     "output_type": "execute_result"
    }
   ],
   "source": [
    "dv.get_feature_names()"
   ]
  },
  {
   "cell_type": "code",
   "execution_count": 208,
   "id": "181157c3",
   "metadata": {},
   "outputs": [
    {
     "data": {
      "text/plain": [
       "array([5.16931276, 5.12277502, 5.0008242 , ..., 4.97340293, 4.83555515,\n",
       "       4.93809752])"
      ]
     },
     "execution_count": 208,
     "metadata": {},
     "output_type": "execute_result"
    }
   ],
   "source": [
    "y_pred"
   ]
  },
  {
   "cell_type": "code",
   "execution_count": 209,
   "id": "96eea412",
   "metadata": {},
   "outputs": [
    {
     "data": {
      "text/plain": [
       "array([5.62040087, 5.08140436, 5.01727984, ..., 4.30406509, 5.01727984,\n",
       "       4.7095302 ])"
      ]
     },
     "execution_count": 209,
     "metadata": {},
     "output_type": "execute_result"
    }
   ],
   "source": [
    "y_val_log = np.log1p(y_val)\n",
    "y_val_log"
   ]
  },
  {
   "cell_type": "code",
   "execution_count": 210,
   "id": "aaac9e10",
   "metadata": {},
   "outputs": [],
   "source": [
    "from sklearn.metrics import mean_squared_error"
   ]
  },
  {
   "cell_type": "code",
   "execution_count": 211,
   "id": "24ff443e",
   "metadata": {},
   "outputs": [
    {
     "data": {
      "text/plain": [
       "0.2552679669025112"
      ]
     },
     "execution_count": 211,
     "metadata": {},
     "output_type": "execute_result"
    }
   ],
   "source": [
    "mean_squared_error(y_val_log, y_pred)"
   ]
  },
  {
   "cell_type": "code",
   "execution_count": 212,
   "id": "1646e9ab",
   "metadata": {},
   "outputs": [
    {
     "data": {
      "text/plain": [
       "250"
      ]
     },
     "execution_count": 212,
     "metadata": {},
     "output_type": "execute_result"
    }
   ],
   "source": [
    "y_val[5]"
   ]
  },
  {
   "cell_type": "code",
   "execution_count": 213,
   "id": "0e2114b3",
   "metadata": {},
   "outputs": [
    {
     "data": {
      "text/plain": [
       "249.9999999999999"
      ]
     },
     "execution_count": 213,
     "metadata": {},
     "output_type": "execute_result"
    }
   ],
   "source": [
    "np.expm1(y_val_log[5])"
   ]
  },
  {
   "cell_type": "code",
   "execution_count": 214,
   "id": "1a62aeeb",
   "metadata": {},
   "outputs": [
    {
     "data": {
      "text/plain": [
       "array([5.16931276, 5.12277502, 5.0008242 , ..., 4.97340293, 4.83555515,\n",
       "       4.93809752])"
      ]
     },
     "execution_count": 214,
     "metadata": {},
     "output_type": "execute_result"
    }
   ],
   "source": [
    "y_pred"
   ]
  },
  {
   "cell_type": "code",
   "execution_count": 215,
   "id": "d7182eb9",
   "metadata": {},
   "outputs": [],
   "source": [
    "from sklearn.linear_model import Ridge"
   ]
  },
  {
   "cell_type": "code",
   "execution_count": 216,
   "id": "67580d80",
   "metadata": {},
   "outputs": [],
   "source": [
    "train_dicts = df_train[categorical + numerical].to_dict(orient = 'records')\n",
    "dv = DictVectorizer(sparse = False)\n",
    "\n",
    "dv.fit(train_dicts)\n",
    "X_train = dv.transform(train_dicts)\n",
    "\n",
    "val_dicts = df_val[categorical + numerical].to_dict(orient = 'records')\n",
    "dv = DictVectorizer(sparse = False)\n",
    "\n",
    "dv.fit(val_dicts)\n",
    "X_val = dv.transform(val_dicts)"
   ]
  },
  {
   "cell_type": "code",
   "execution_count": 229,
   "id": "967236a5",
   "metadata": {},
   "outputs": [],
   "source": [
    "alpha_ = [0, 0.01, 0.1, 1, 10]"
   ]
  },
  {
   "cell_type": "code",
   "execution_count": 233,
   "id": "eda45a1e",
   "metadata": {},
   "outputs": [
    {
     "name": "stdout",
     "output_type": "stream",
     "text": [
      "0 0.505\n",
      "0.01 0.505\n",
      "0.1 0.505\n",
      "1 0.505\n",
      "10 0.507\n"
     ]
    },
    {
     "name": "stderr",
     "output_type": "stream",
     "text": [
      "C:\\Users\\abdo9\\anaconda3\\envs\\ml-zoomcamp\\lib\\site-packages\\sklearn\\linear_model\\_ridge.py:147: LinAlgWarning: Ill-conditioned matrix (rcond=7.43149e-21): result may not be accurate.\n",
      "  return linalg.solve(A, Xy, sym_pos=True,\n"
     ]
    }
   ],
   "source": [
    "for i in alpha_:\n",
    "    rr = Ridge(alpha=i)\n",
    "    rr.fit(X_train, y_train_log) \n",
    "    pred_val_rr= rr.predict(X_val)\n",
    "    print(i , np.sqrt(mean_squared_error(y_val_log,pred_val_rr)).round(3))"
   ]
  },
  {
   "cell_type": "markdown",
   "id": "602769bb",
   "metadata": {},
   "source": [
    "**The answer is the smallest value = 0**"
   ]
  },
  {
   "cell_type": "code",
   "execution_count": 226,
   "id": "f3ee3fb4",
   "metadata": {},
   "outputs": [
    {
     "data": {
      "text/plain": [
       "array([5.15457261, 5.14464515, 4.99817858, ..., 4.96673898, 4.81059303,\n",
       "       4.93905848])"
      ]
     },
     "execution_count": 226,
     "metadata": {},
     "output_type": "execute_result"
    }
   ],
   "source": [
    "pred_val_rr"
   ]
  },
  {
   "cell_type": "code",
   "execution_count": 227,
   "id": "954d9c43",
   "metadata": {},
   "outputs": [
    {
     "data": {
      "text/plain": [
       "array([5.62040087, 5.08140436, 5.01727984, ..., 4.30406509, 5.01727984,\n",
       "       4.7095302 ])"
      ]
     },
     "execution_count": 227,
     "metadata": {},
     "output_type": "execute_result"
    }
   ],
   "source": [
    "y_val_log"
   ]
  },
  {
   "cell_type": "code",
   "execution_count": null,
   "id": "1b634aea",
   "metadata": {},
   "outputs": [],
   "source": []
  }
 ],
 "metadata": {
  "kernelspec": {
   "display_name": "Python 3 (ipykernel)",
   "language": "python",
   "name": "python3"
  },
  "language_info": {
   "codemirror_mode": {
    "name": "ipython",
    "version": 3
   },
   "file_extension": ".py",
   "mimetype": "text/x-python",
   "name": "python",
   "nbconvert_exporter": "python",
   "pygments_lexer": "ipython3",
   "version": "3.9.6"
  }
 },
 "nbformat": 4,
 "nbformat_minor": 5
}
